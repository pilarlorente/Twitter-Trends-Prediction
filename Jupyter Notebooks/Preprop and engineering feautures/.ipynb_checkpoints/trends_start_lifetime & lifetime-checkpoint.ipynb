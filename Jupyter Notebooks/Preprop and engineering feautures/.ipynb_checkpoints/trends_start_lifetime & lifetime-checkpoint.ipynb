{
 "cells": [
  {
   "cell_type": "code",
   "execution_count": 10,
   "metadata": {},
   "outputs": [],
   "source": [
    "import numpy as np\n",
    "import pandas as pd"
   ]
  },
  {
   "cell_type": "code",
   "execution_count": 11,
   "metadata": {},
   "outputs": [],
   "source": [
    "tendencias_24 = list()\n",
    "with open(\"C:/Users/Daniel/Desktop/csv/dia 24/trends/tendencias por hora 24.txt\", \"r\") as f:\n",
    "    tendencias_24.extend(f.readlines())\n",
    "    \n",
    "    \n",
    "tendencias_25 = list()\n",
    "with open(\"C:/Users/Daniel/Desktop/csv/dia 25/trends/tendencias por hora 25.txt\", \"r\") as f:\n",
    "    tendencias_25.extend(f.readlines())"
   ]
  },
  {
   "cell_type": "code",
   "execution_count": 12,
   "metadata": {},
   "outputs": [],
   "source": [
    "tendencias_24 = [t.strip(\"\\n, \\t, \") for t in tendencias_24]\n",
    "\n",
    "tendencias_25 = [t.strip(\"\\n, \\t, \") for t in tendencias_25]"
   ]
  },
  {
   "cell_type": "code",
   "execution_count": 13,
   "metadata": {},
   "outputs": [],
   "source": [
    "horas = [\"0{}:00\".format(i) if len(str(i)) < 2 else \"{}:00\".format(i) for i in range(24)]"
   ]
  },
  {
   "cell_type": "code",
   "execution_count": 14,
   "metadata": {},
   "outputs": [],
   "source": [
    "slicing = list()\n",
    "for i in range(len(horas) - 1):\n",
    "    slicing.append([tendencias_24.index(horas[i]), tendencias_24.index(horas[i + 1]) - 1])\n",
    "slicing.append([tendencias_24.index(horas[i + 1]), -1])\n",
    "\n",
    "\n",
    "dict_24 = dict()\n",
    "for num, slice_ in enumerate(slicing):\n",
    "    if num != len(slicing) - 1:\n",
    "        for t in tendencias_24[slice_[0] + 1: slice_[1]]:\n",
    "            h = tendencias_24[slice_[0] : slice_[1]][0]\n",
    "            if t not in dict_24:\n",
    "                dict_24[t] = h\n",
    "    else:\n",
    "        for t in tendencias_24[slice_[0] + 1:]:\n",
    "            h = tendencias_24[slice_[0] :][0]\n",
    "            if t not in dict_24:\n",
    "                dict_24[t] = h"
   ]
  },
  {
   "cell_type": "code",
   "execution_count": 15,
   "metadata": {},
   "outputs": [],
   "source": [
    "slicing = list()\n",
    "for i in range(len(horas) - 1):\n",
    "    slicing.append([tendencias_25.index(horas[i]), tendencias_25.index(horas[i + 1]) - 1])\n",
    "slicing.append([tendencias_25.index(horas[i + 1]), -1])\n",
    "\n",
    "\n",
    "dict_25 = dict()\n",
    "for num, slice_ in enumerate(slicing):\n",
    "    if num != len(slicing) - 1:\n",
    "        for t in tendencias_25[slice_[0] + 1: slice_[1]]:\n",
    "            h = tendencias_25[slice_[0] : slice_[1]][0]\n",
    "            if t not in dict_25:\n",
    "                dict_25[t] = h\n",
    "    else:\n",
    "        for t in tendencias_25[slice_[0] + 1:]:\n",
    "            h = tendencias_25[slice_[0] :][0]\n",
    "            if t not in dict_25:\n",
    "                dict_25[t] = h"
   ]
  },
  {
   "cell_type": "code",
   "execution_count": 16,
   "metadata": {},
   "outputs": [],
   "source": [
    "df_24 = pd.DataFrame([[key, value] for key, value in dict_24.items()], columns = [\"trend\", \"start_lifetime\"])\n",
    "df_25 = pd.DataFrame([[key, value] for key, value in dict_25.items()], columns = [\"trend\", \"start_lifetime\"])"
   ]
  },
  {
   "cell_type": "code",
   "execution_count": 8,
   "metadata": {},
   "outputs": [],
   "source": [
    "#df_24.to_csv(\"trends_24_start_lifetime.csv\", sep = \";\", index = False)\n",
    "#df_25.to_csv(\"trends_25_start_lifetime.csv\", sep = \";\", index = False)"
   ]
  },
  {
   "cell_type": "code",
   "execution_count": 17,
   "metadata": {},
   "outputs": [],
   "source": [
    "slicing = list()\n",
    "for i in range(len(horas) - 1):\n",
    "    slicing.append([tendencias_24.index(horas[i]), tendencias_24.index(horas[i + 1]) - 1])\n",
    "slicing.append([tendencias_24.index(horas[i + 1]), -1])\n",
    "\n",
    "slicing = slicing[::-1]\n",
    "\n",
    "dict_24_inv = dict()\n",
    "for num, slice_ in enumerate(slicing):\n",
    "    if num == 0:\n",
    "        for t in tendencias_24[slice_[0] + 1:]:\n",
    "            h = tendencias_24[slice_[0] :][0]\n",
    "            if t not in dict_24_inv:\n",
    "                dict_24_inv[t] = h    \n",
    "    else:\n",
    "        for t in tendencias_24[slice_[0] + 1: slice_[1]]:\n",
    "            h = tendencias_24[slice_[0] : slice_[1]][0]\n",
    "            if t not in dict_24_inv:\n",
    "                dict_24_inv[t] = h"
   ]
  },
  {
   "cell_type": "code",
   "execution_count": 10,
   "metadata": {},
   "outputs": [],
   "source": [
    "slicing = list()\n",
    "for i in range(len(horas) - 1):\n",
    "    slicing.append([tendencias_25.index(horas[i]), tendencias_25.index(horas[i + 1]) - 1])\n",
    "slicing.append([tendencias_25.index(horas[i + 1]), -1])\n",
    "\n",
    "slicing = slicing[::-1]\n",
    "\n",
    "dict_25_inv = dict()\n",
    "for num, slice_ in enumerate(slicing):\n",
    "    if num == 0:\n",
    "        for t in tendencias_25[slice_[0] + 1:]:\n",
    "            h = tendencias_25[slice_[0] :][0]\n",
    "            if t not in dict_25_inv:\n",
    "                dict_25_inv[t] = h    \n",
    "    else:\n",
    "        for t in tendencias_25[slice_[0] + 1: slice_[1]]:\n",
    "            h = tendencias_25[slice_[0] : slice_[1]][0]\n",
    "            if t not in dict_25_inv:\n",
    "                dict_25_inv[t] = h"
   ]
  },
  {
   "cell_type": "code",
   "execution_count": 11,
   "metadata": {},
   "outputs": [],
   "source": [
    "diff_24 = list()\n",
    "for key1, value1 in dict_24.items():\n",
    "    for key2, value2 in dict_24_inv.items():\n",
    "        if key1 == key2:\n",
    "            diff_24.append([key1, int(value2[:2]) - int(value1[:2])])"
   ]
  },
  {
   "cell_type": "code",
   "execution_count": 12,
   "metadata": {},
   "outputs": [],
   "source": [
    "diff_25 = list()\n",
    "for key1, value1 in dict_25.items():\n",
    "    for key2, value2 in dict_25_inv.items():\n",
    "        if key1 == key2:\n",
    "            diff_25.append([key1, int(value2[:2]) - int(value1[:2])])"
   ]
  },
  {
   "cell_type": "code",
   "execution_count": 13,
   "metadata": {},
   "outputs": [],
   "source": [
    "df_diff_24 = pd.DataFrame(diff_24, columns = [\"trend\", \"lifetime\"])\n",
    "df_diff_25 = pd.DataFrame(diff_25, columns = [\"trend\", \"lifetime\"])"
   ]
  },
  {
   "cell_type": "code",
   "execution_count": 14,
   "metadata": {},
   "outputs": [],
   "source": [
    "#df_diff_24.to_csv(\"trends_24_lifetime.csv\", sep = \";\", index = False)\n",
    "#df_diff_25.to_csv(\"trends_25_lifetime.csv\", sep = \";\", index = False)"
   ]
  },
  {
   "cell_type": "code",
   "execution_count": null,
   "metadata": {},
   "outputs": [],
   "source": []
  },
  {
   "cell_type": "code",
   "execution_count": null,
   "metadata": {},
   "outputs": [],
   "source": []
  },
  {
   "cell_type": "code",
   "execution_count": 18,
   "metadata": {},
   "outputs": [],
   "source": [
    "slicing = list()\n",
    "for i in range(len(horas) - 1):\n",
    "    slicing.append([tendencias_24.index(horas[i]), tendencias_24.index(horas[i + 1]) - 1])\n",
    "slicing.append([tendencias_24.index(horas[i + 1]), -1])\n",
    "\n",
    "lista24 = list()\n",
    "for slice_ in slicing:\n",
    "    for trend in tendencias_24[slice_[0] : slice_[1]][1:]:\n",
    "        lista24.append([trend, int(tendencias_24[slice_[0] : slice_[1]][0][:2])])\n",
    "\n",
    "slicing = list()\n",
    "for i in range(len(horas) - 1):\n",
    "    slicing.append([tendencias_25.index(horas[i]), tendencias_25.index(horas[i + 1]) - 1])\n",
    "slicing.append([tendencias_25.index(horas[i + 1]), -1])\n",
    "\n",
    "lista25 = list()\n",
    "for slice_ in slicing:\n",
    "    for trend in tendencias_25[slice_[0] : slice_[1]][1:]:\n",
    "        lista25.append([trend, int(tendencias_25[slice_[0] : slice_[1]][0][:2])])"
   ]
  },
  {
   "cell_type": "code",
   "execution_count": 19,
   "metadata": {},
   "outputs": [],
   "source": [
    "df_24 = pd.DataFrame(lista24, columns = [\"trend\", \"hour\"])\n",
    "df_25 = pd.DataFrame(lista25, columns = [\"trend\", \"hour\"])"
   ]
  },
  {
   "cell_type": "code",
   "execution_count": 20,
   "metadata": {},
   "outputs": [],
   "source": [
    "df_24.to_csv(\"lista_tendencias_24_por_hora.csv\", sep = \";\", index = False)\n",
    "df_25.to_csv(\"lista_tendencias_25_por_hora.csv\", sep = \";\", index = False)"
   ]
  },
  {
   "cell_type": "code",
   "execution_count": 21,
   "metadata": {},
   "outputs": [
    {
     "data": {
      "text/html": [
       "<div>\n",
       "<style scoped>\n",
       "    .dataframe tbody tr th:only-of-type {\n",
       "        vertical-align: middle;\n",
       "    }\n",
       "\n",
       "    .dataframe tbody tr th {\n",
       "        vertical-align: top;\n",
       "    }\n",
       "\n",
       "    .dataframe thead th {\n",
       "        text-align: right;\n",
       "    }\n",
       "</style>\n",
       "<table border=\"1\" class=\"dataframe\">\n",
       "  <thead>\n",
       "    <tr style=\"text-align: right;\">\n",
       "      <th></th>\n",
       "      <th>trend</th>\n",
       "      <th>hour</th>\n",
       "    </tr>\n",
       "  </thead>\n",
       "  <tbody>\n",
       "    <tr>\n",
       "      <th>0</th>\n",
       "      <td>#OTGala6</td>\n",
       "      <td>0</td>\n",
       "    </tr>\n",
       "    <tr>\n",
       "      <th>1</th>\n",
       "      <td>#ConexiónHonduras1</td>\n",
       "      <td>0</td>\n",
       "    </tr>\n",
       "    <tr>\n",
       "      <th>2</th>\n",
       "      <td>#CuartoMilenio</td>\n",
       "      <td>0</td>\n",
       "    </tr>\n",
       "    <tr>\n",
       "      <th>3</th>\n",
       "      <td>#NBASundays</td>\n",
       "      <td>0</td>\n",
       "    </tr>\n",
       "    <tr>\n",
       "      <th>4</th>\n",
       "      <td>Tatum</td>\n",
       "      <td>0</td>\n",
       "    </tr>\n",
       "    <tr>\n",
       "      <th>...</th>\n",
       "      <td>...</td>\n",
       "      <td>...</td>\n",
       "    </tr>\n",
       "    <tr>\n",
       "      <th>1090</th>\n",
       "      <td>#MeToo</td>\n",
       "      <td>23</td>\n",
       "    </tr>\n",
       "    <tr>\n",
       "      <th>1091</th>\n",
       "      <td>#Giandara24F</td>\n",
       "      <td>23</td>\n",
       "    </tr>\n",
       "    <tr>\n",
       "      <th>1092</th>\n",
       "      <td>#SuperligaOrangeLoL12</td>\n",
       "      <td>23</td>\n",
       "    </tr>\n",
       "    <tr>\n",
       "      <th>1093</th>\n",
       "      <td>#TodosSomosEspeciales</td>\n",
       "      <td>23</td>\n",
       "    </tr>\n",
       "    <tr>\n",
       "      <th>1094</th>\n",
       "      <td>#SolesRepsolDonostia20</td>\n",
       "      <td>23</td>\n",
       "    </tr>\n",
       "  </tbody>\n",
       "</table>\n",
       "<p>1095 rows × 2 columns</p>\n",
       "</div>"
      ],
      "text/plain": [
       "                       trend  hour\n",
       "0                   #OTGala6     0\n",
       "1         #ConexiónHonduras1     0\n",
       "2             #CuartoMilenio     0\n",
       "3                #NBASundays     0\n",
       "4                      Tatum     0\n",
       "...                      ...   ...\n",
       "1090                  #MeToo    23\n",
       "1091            #Giandara24F    23\n",
       "1092   #SuperligaOrangeLoL12    23\n",
       "1093   #TodosSomosEspeciales    23\n",
       "1094  #SolesRepsolDonostia20    23\n",
       "\n",
       "[1095 rows x 2 columns]"
      ]
     },
     "execution_count": 21,
     "metadata": {},
     "output_type": "execute_result"
    }
   ],
   "source": [
    "df_24"
   ]
  },
  {
   "cell_type": "code",
   "execution_count": 22,
   "metadata": {},
   "outputs": [
    {
     "data": {
      "text/html": [
       "<div>\n",
       "<style scoped>\n",
       "    .dataframe tbody tr th:only-of-type {\n",
       "        vertical-align: middle;\n",
       "    }\n",
       "\n",
       "    .dataframe tbody tr th {\n",
       "        vertical-align: top;\n",
       "    }\n",
       "\n",
       "    .dataframe thead th {\n",
       "        text-align: right;\n",
       "    }\n",
       "</style>\n",
       "<table border=\"1\" class=\"dataframe\">\n",
       "  <thead>\n",
       "    <tr style=\"text-align: right;\">\n",
       "      <th></th>\n",
       "      <th>trend</th>\n",
       "      <th>hour</th>\n",
       "    </tr>\n",
       "  </thead>\n",
       "  <tbody>\n",
       "    <tr>\n",
       "      <th>0</th>\n",
       "      <td>#AskJavy</td>\n",
       "      <td>0</td>\n",
       "    </tr>\n",
       "    <tr>\n",
       "      <th>1</th>\n",
       "      <td>#maestrosdelacostura</td>\n",
       "      <td>0</td>\n",
       "    </tr>\n",
       "    <tr>\n",
       "      <th>2</th>\n",
       "      <td>#conquis6</td>\n",
       "      <td>0</td>\n",
       "    </tr>\n",
       "    <tr>\n",
       "      <th>3</th>\n",
       "      <td>VAMOS A MORIR TODOS</td>\n",
       "      <td>0</td>\n",
       "    </tr>\n",
       "    <tr>\n",
       "      <th>4</th>\n",
       "      <td>#VivirSinPermiso7</td>\n",
       "      <td>0</td>\n",
       "    </tr>\n",
       "    <tr>\n",
       "      <th>...</th>\n",
       "      <td>...</td>\n",
       "      <td>...</td>\n",
       "    </tr>\n",
       "    <tr>\n",
       "      <th>1169</th>\n",
       "      <td>#SelfieForNick</td>\n",
       "      <td>23</td>\n",
       "    </tr>\n",
       "    <tr>\n",
       "      <th>1170</th>\n",
       "      <td>#ImanolEH</td>\n",
       "      <td>23</td>\n",
       "    </tr>\n",
       "    <tr>\n",
       "      <th>1171</th>\n",
       "      <td>#StupidLove</td>\n",
       "      <td>23</td>\n",
       "    </tr>\n",
       "    <tr>\n",
       "      <th>1172</th>\n",
       "      <td>#SVUltimaHora</td>\n",
       "      <td>23</td>\n",
       "    </tr>\n",
       "    <tr>\n",
       "      <th>1173</th>\n",
       "      <td>#otdirecto26f</td>\n",
       "      <td>23</td>\n",
       "    </tr>\n",
       "  </tbody>\n",
       "</table>\n",
       "<p>1174 rows × 2 columns</p>\n",
       "</div>"
      ],
      "text/plain": [
       "                     trend  hour\n",
       "0                 #AskJavy     0\n",
       "1     #maestrosdelacostura     0\n",
       "2                #conquis6     0\n",
       "3      VAMOS A MORIR TODOS     0\n",
       "4        #VivirSinPermiso7     0\n",
       "...                    ...   ...\n",
       "1169        #SelfieForNick    23\n",
       "1170             #ImanolEH    23\n",
       "1171           #StupidLove    23\n",
       "1172         #SVUltimaHora    23\n",
       "1173         #otdirecto26f    23\n",
       "\n",
       "[1174 rows x 2 columns]"
      ]
     },
     "execution_count": 22,
     "metadata": {},
     "output_type": "execute_result"
    }
   ],
   "source": [
    "df_25"
   ]
  },
  {
   "cell_type": "code",
   "execution_count": null,
   "metadata": {},
   "outputs": [],
   "source": []
  }
 ],
 "metadata": {
  "kernelspec": {
   "display_name": "Python 3",
   "language": "python",
   "name": "python3"
  },
  "language_info": {
   "codemirror_mode": {
    "name": "ipython",
    "version": 3
   },
   "file_extension": ".py",
   "mimetype": "text/x-python",
   "name": "python",
   "nbconvert_exporter": "python",
   "pygments_lexer": "ipython3",
   "version": "3.8.3"
  }
 },
 "nbformat": 4,
 "nbformat_minor": 4
}
